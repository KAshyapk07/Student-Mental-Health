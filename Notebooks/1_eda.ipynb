{
 "cells": [
  {
   "cell_type": "markdown",
   "id": "a9ad303b",
   "metadata": {},
   "source": [
    "cleaning data + exploring\n"
   ]
  },
  {
   "cell_type": "code",
   "execution_count": 10,
   "id": "cc51cbf5",
   "metadata": {},
   "outputs": [],
   "source": [
    "import pandas as pd\n",
    "import numpy as np\n",
    "from src.data_prep import load_data\n",
    "\n",
    "import matplotlib.pyplot as plt"
   ]
  },
  {
   "cell_type": "code",
   "execution_count": 3,
   "id": "e38adc18",
   "metadata": {},
   "outputs": [],
   "source": [
    "path = \"Data/Raw/mental_health_data.csv\"\n",
    "data  = load_data(path)"
   ]
  },
  {
   "cell_type": "markdown",
   "id": "d66bb34f",
   "metadata": {},
   "source": [
    "Checking data info\n"
   ]
  },
  {
   "cell_type": "code",
   "execution_count": 5,
   "id": "f35da4ab",
   "metadata": {},
   "outputs": [
    {
     "name": "stdout",
     "output_type": "stream",
     "text": [
      "<class 'pandas.core.frame.DataFrame'>\n",
      "RangeIndex: 50000 entries, 0 to 49999\n",
      "Data columns (total 17 columns):\n",
      " #   Column                   Non-Null Count  Dtype  \n",
      "---  ------                   --------------  -----  \n",
      " 0   User_ID                  50000 non-null  int64  \n",
      " 1   Age                      50000 non-null  int64  \n",
      " 2   Gender                   50000 non-null  object \n",
      " 3   Occupation               50000 non-null  object \n",
      " 4   Country                  50000 non-null  object \n",
      " 5   Mental_Health_Condition  50000 non-null  object \n",
      " 6   Severity                 24998 non-null  object \n",
      " 7   Consultation_History     50000 non-null  object \n",
      " 8   Stress_Level             50000 non-null  object \n",
      " 9   Sleep_Hours              50000 non-null  float64\n",
      " 10  Work_Hours               50000 non-null  int64  \n",
      " 11  Physical_Activity_Hours  50000 non-null  int64  \n",
      " 12  Social_Media_Usage       50000 non-null  float64\n",
      " 13  Diet_Quality             50000 non-null  object \n",
      " 14  Smoking_Habit            50000 non-null  object \n",
      " 15  Alcohol_Consumption      50000 non-null  object \n",
      " 16  Medication_Usage         50000 non-null  object \n",
      "dtypes: float64(2), int64(4), object(11)\n",
      "memory usage: 6.5+ MB\n"
     ]
    }
   ],
   "source": [
    "data.info()"
   ]
  },
  {
   "cell_type": "code",
   "execution_count": 7,
   "id": "0edc636e",
   "metadata": {},
   "outputs": [
    {
     "data": {
      "text/plain": [
       "(50000, 17)"
      ]
     },
     "execution_count": 7,
     "metadata": {},
     "output_type": "execute_result"
    }
   ],
   "source": [
    "data.shape"
   ]
  },
  {
   "cell_type": "code",
   "execution_count": 8,
   "id": "3ed59308",
   "metadata": {},
   "outputs": [
    {
     "name": "stdout",
     "output_type": "stream",
     "text": [
      "User_ID                        0\n",
      "Age                            0\n",
      "Gender                         0\n",
      "Occupation                     0\n",
      "Country                        0\n",
      "Mental_Health_Condition        0\n",
      "Severity                   25002\n",
      "Consultation_History           0\n",
      "Stress_Level                   0\n",
      "Sleep_Hours                    0\n",
      "Work_Hours                     0\n",
      "Physical_Activity_Hours        0\n",
      "Social_Media_Usage             0\n",
      "Diet_Quality                   0\n",
      "Smoking_Habit                  0\n",
      "Alcohol_Consumption            0\n",
      "Medication_Usage               0\n",
      "dtype: int64\n"
     ]
    }
   ],
   "source": [
    "print(data.isnull().sum())"
   ]
  },
  {
   "cell_type": "code",
   "execution_count": 13,
   "id": "4687f6ac",
   "metadata": {},
   "outputs": [
    {
     "data": {
      "text/html": [
       "<div>\n",
       "<style scoped>\n",
       "    .dataframe tbody tr th:only-of-type {\n",
       "        vertical-align: middle;\n",
       "    }\n",
       "\n",
       "    .dataframe tbody tr th {\n",
       "        vertical-align: top;\n",
       "    }\n",
       "\n",
       "    .dataframe thead th {\n",
       "        text-align: right;\n",
       "    }\n",
       "</style>\n",
       "<table border=\"1\" class=\"dataframe\">\n",
       "  <thead>\n",
       "    <tr style=\"text-align: right;\">\n",
       "      <th></th>\n",
       "      <th>User_ID</th>\n",
       "      <th>Age</th>\n",
       "      <th>Sleep_Hours</th>\n",
       "      <th>Work_Hours</th>\n",
       "      <th>Physical_Activity_Hours</th>\n",
       "      <th>Social_Media_Usage</th>\n",
       "    </tr>\n",
       "  </thead>\n",
       "  <tbody>\n",
       "    <tr>\n",
       "      <th>count</th>\n",
       "      <td>50000.000000</td>\n",
       "      <td>50000.000000</td>\n",
       "      <td>50000.000000</td>\n",
       "      <td>50000.000000</td>\n",
       "      <td>50000.000000</td>\n",
       "      <td>50000.000000</td>\n",
       "    </tr>\n",
       "    <tr>\n",
       "      <th>mean</th>\n",
       "      <td>25000.500000</td>\n",
       "      <td>41.473080</td>\n",
       "      <td>7.009934</td>\n",
       "      <td>55.062860</td>\n",
       "      <td>4.982040</td>\n",
       "      <td>3.243160</td>\n",
       "    </tr>\n",
       "    <tr>\n",
       "      <th>std</th>\n",
       "      <td>14433.901067</td>\n",
       "      <td>13.844185</td>\n",
       "      <td>1.732674</td>\n",
       "      <td>14.691575</td>\n",
       "      <td>3.161759</td>\n",
       "      <td>1.585235</td>\n",
       "    </tr>\n",
       "    <tr>\n",
       "      <th>min</th>\n",
       "      <td>1.000000</td>\n",
       "      <td>18.000000</td>\n",
       "      <td>4.000000</td>\n",
       "      <td>30.000000</td>\n",
       "      <td>0.000000</td>\n",
       "      <td>0.500000</td>\n",
       "    </tr>\n",
       "    <tr>\n",
       "      <th>25%</th>\n",
       "      <td>12500.750000</td>\n",
       "      <td>29.000000</td>\n",
       "      <td>5.500000</td>\n",
       "      <td>42.000000</td>\n",
       "      <td>2.000000</td>\n",
       "      <td>1.900000</td>\n",
       "    </tr>\n",
       "    <tr>\n",
       "      <th>50%</th>\n",
       "      <td>25000.500000</td>\n",
       "      <td>41.000000</td>\n",
       "      <td>7.000000</td>\n",
       "      <td>55.000000</td>\n",
       "      <td>5.000000</td>\n",
       "      <td>3.200000</td>\n",
       "    </tr>\n",
       "    <tr>\n",
       "      <th>75%</th>\n",
       "      <td>37500.250000</td>\n",
       "      <td>53.000000</td>\n",
       "      <td>8.500000</td>\n",
       "      <td>68.000000</td>\n",
       "      <td>8.000000</td>\n",
       "      <td>4.600000</td>\n",
       "    </tr>\n",
       "    <tr>\n",
       "      <th>max</th>\n",
       "      <td>50000.000000</td>\n",
       "      <td>65.000000</td>\n",
       "      <td>10.000000</td>\n",
       "      <td>80.000000</td>\n",
       "      <td>10.000000</td>\n",
       "      <td>6.000000</td>\n",
       "    </tr>\n",
       "  </tbody>\n",
       "</table>\n",
       "</div>"
      ],
      "text/plain": [
       "            User_ID           Age   Sleep_Hours    Work_Hours  \\\n",
       "count  50000.000000  50000.000000  50000.000000  50000.000000   \n",
       "mean   25000.500000     41.473080      7.009934     55.062860   \n",
       "std    14433.901067     13.844185      1.732674     14.691575   \n",
       "min        1.000000     18.000000      4.000000     30.000000   \n",
       "25%    12500.750000     29.000000      5.500000     42.000000   \n",
       "50%    25000.500000     41.000000      7.000000     55.000000   \n",
       "75%    37500.250000     53.000000      8.500000     68.000000   \n",
       "max    50000.000000     65.000000     10.000000     80.000000   \n",
       "\n",
       "       Physical_Activity_Hours  Social_Media_Usage  \n",
       "count             50000.000000        50000.000000  \n",
       "mean                  4.982040            3.243160  \n",
       "std                   3.161759            1.585235  \n",
       "min                   0.000000            0.500000  \n",
       "25%                   2.000000            1.900000  \n",
       "50%                   5.000000            3.200000  \n",
       "75%                   8.000000            4.600000  \n",
       "max                  10.000000            6.000000  "
      ]
     },
     "execution_count": 13,
     "metadata": {},
     "output_type": "execute_result"
    }
   ],
   "source": [
    "\n",
    "data.describe()"
   ]
  },
  {
   "cell_type": "code",
   "execution_count": null,
   "id": "dbd18051",
   "metadata": {},
   "outputs": [],
   "source": []
  }
 ],
 "metadata": {
  "kernelspec": {
   "display_name": "student",
   "language": "python",
   "name": "python3"
  },
  "language_info": {
   "codemirror_mode": {
    "name": "ipython",
    "version": 3
   },
   "file_extension": ".py",
   "mimetype": "text/x-python",
   "name": "python",
   "nbconvert_exporter": "python",
   "pygments_lexer": "ipython3",
   "version": "3.13.5"
  }
 },
 "nbformat": 4,
 "nbformat_minor": 5
}
