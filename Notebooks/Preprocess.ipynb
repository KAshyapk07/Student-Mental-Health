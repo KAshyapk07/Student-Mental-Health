{
 "cells": [
  {
   "cell_type": "markdown",
   "id": "dbf28cd8",
   "metadata": {},
   "source": [
    "We will be using the functions from src/preprocess.py \n"
   ]
  },
  {
   "cell_type": "code",
   "execution_count": 2,
   "id": "7af4f1a7",
   "metadata": {},
   "outputs": [],
   "source": [
    "import pandas as pd\n",
    "from src.Preprocess import load_data,custom_cleaning,get_preprocessor,create_stage_datasets,save_datasets "
   ]
  },
  {
   "cell_type": "code",
   "execution_count": null,
   "id": "58ef1c19",
   "metadata": {},
   "outputs": [],
   "source": []
  }
 ],
 "metadata": {
  "kernelspec": {
   "display_name": "student",
   "language": "python",
   "name": "python3"
  },
  "language_info": {
   "codemirror_mode": {
    "name": "ipython",
    "version": 3
   },
   "file_extension": ".py",
   "mimetype": "text/x-python",
   "name": "python",
   "nbconvert_exporter": "python",
   "pygments_lexer": "ipython3",
   "version": "3.13.5"
  }
 },
 "nbformat": 4,
 "nbformat_minor": 5
}
